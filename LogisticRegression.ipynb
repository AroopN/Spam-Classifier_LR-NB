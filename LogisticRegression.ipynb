{
 "cells": [
  {
   "cell_type": "markdown",
   "metadata": {},
   "source": [
    "Importing the required packages"
   ]
  },
  {
   "cell_type": "code",
   "execution_count": 1,
   "metadata": {},
   "outputs": [],
   "source": [
    "import codecs\n",
    "from math import exp\n",
    "import numpy as np\n",
    "from sklearn.metrics import accuracy_score\n",
    "import matplotlib.pyplot as plt"
   ]
  },
  {
   "cell_type": "markdown",
   "metadata": {},
   "source": [
    "Toggle for removing stop words. Set remove_stopwords to True to remove stopwords and False to not remove them."
   ]
  },
  {
   "cell_type": "code",
   "execution_count": 2,
   "metadata": {},
   "outputs": [],
   "source": [
    "remove_stopwords = True\n",
    "stopwords=set()\n",
    "\n",
    "if remove_stopwords:\n",
    "    with open(\"stopwords.txt\",'r') as a:\n",
    "        stopwords = set(a.read().split())\n",
    "    "
   ]
  },
  {
   "cell_type": "markdown",
   "metadata": {},
   "source": [
    "Generating vocabulary from the dataset"
   ]
  },
  {
   "cell_type": "code",
   "execution_count": 3,
   "metadata": {},
   "outputs": [],
   "source": [
    "def gen_vocab():\n",
    "    voc = []\n",
    "    paths = [\"./train/ham/\", \"./train/spam/\"]\n",
    "    for mypath in paths:\n",
    "        f = fnames(mypath)\n",
    "        for i in f:\n",
    "            fin = codecs.open(mypath+i, 'r', encoding='utf-8',\n",
    "                              errors='ignore')\n",
    "            sen = (fin.read()).lower().split()\n",
    "            voc.extend(sen)\n",
    "    return set(voc)- stopwords"
   ]
  },
  {
   "cell_type": "markdown",
   "metadata": {},
   "source": [
    "Assigning an index to each word"
   ]
  },
  {
   "cell_type": "code",
   "execution_count": 4,
   "metadata": {},
   "outputs": [],
   "source": [
    "def gen_index():\n",
    "    vocab = gen_vocab()\n",
    "    d={}\n",
    "    k=0\n",
    "    for i in vocab:\n",
    "        d[i]=k\n",
    "        k+=1\n",
    "    return d,len(vocab)"
   ]
  },
  {
   "cell_type": "markdown",
   "metadata": {},
   "source": [
    "Read data and fill dataset"
   ]
  },
  {
   "cell_type": "code",
   "execution_count": 5,
   "metadata": {},
   "outputs": [],
   "source": [
    "def fnames(mypath): # returns all file names in a directory\n",
    "    from os import walk\n",
    "    f = []\n",
    "    for (dirpath, dirnames, filenames) in walk(mypath):\n",
    "        f.extend(filenames)\n",
    "        return f\n",
    "\n",
    "\n",
    "def createDataset(s=\"train\"):\n",
    "    words = []\n",
    "    paths= [\"./{}/spam/\".format(s),\"./{}/ham/\".format(s)]\n",
    "    flag=1\n",
    "    features=[]\n",
    "    labels=[]\n",
    "    l=[]\n",
    "    for mypath in paths:\n",
    "        files = fnames(mypath)\n",
    "        for file in files:\n",
    "            X=[1] # Inserting X0\n",
    "            X += [0 for i in range(voc_len)] # Inserting X1,X2 ...Xn\n",
    "            fin = codecs.open(mypath+file, 'r', encoding='utf-8',errors='ignore')\n",
    "            data = fin.read().lower().split()\n",
    "            for word in data:\n",
    "                try:\n",
    "                    X[d[word]]+=1\n",
    "                except:\n",
    "                    pass # required during testing for words in test data but not in train data\n",
    "            labels.append(flag)\n",
    "            features.append(X)\n",
    "        flag-=1\n",
    "    X=np.asarray(features)\n",
    "    y=np.asarray(labels)\n",
    "    return X,y\n"
   ]
  },
  {
   "cell_type": "markdown",
   "metadata": {},
   "source": [
    "Call functions to generate train and test data"
   ]
  },
  {
   "cell_type": "code",
   "execution_count": 6,
   "metadata": {},
   "outputs": [
    {
     "name": "stdout",
     "output_type": "stream",
     "text": [
      "(463, 10331)\n",
      "(478, 10331)\n",
      "(463,)\n",
      "(478,)\n"
     ]
    }
   ],
   "source": [
    "vocab = gen_vocab()\n",
    "d,voc_len = gen_index()\n",
    "X_train,y_train = createDataset(\"train\")\n",
    "X_test,y_test = createDataset(\"test\")\n",
    "print(X_train.shape)\n",
    "print(X_test.shape)\n",
    "print(y_train.shape)\n",
    "print(y_test.shape)"
   ]
  },
  {
   "cell_type": "markdown",
   "metadata": {},
   "source": [
    "Functions to train Linear Regression model and predict function"
   ]
  },
  {
   "cell_type": "code",
   "execution_count": 7,
   "metadata": {},
   "outputs": [],
   "source": [
    "def sigmoid(z):\n",
    "    return 1 / (1 + np.exp(-z))"
   ]
  },
  {
   "cell_type": "code",
   "execution_count": 8,
   "metadata": {},
   "outputs": [],
   "source": [
    "def trainLR(X, y, num_iter, lr, lam):\n",
    "    weights = np.zeros(X.shape[1])\n",
    "\n",
    "    for i in range(num_iter):\n",
    "        z = X@weights\n",
    "        h = sigmoid(z)\n",
    "        m = y.size\n",
    "        gradient = 1/m * (X.T@(h - y) + lam/(2*m)*weights.T@weights)\n",
    "        weights -= lr * gradient\n",
    "        z = X@weights\n",
    "        h = sigmoid(z)\n",
    "    return weights"
   ]
  },
  {
   "cell_type": "code",
   "execution_count": 9,
   "metadata": {},
   "outputs": [],
   "source": [
    "def predict(X):\n",
    "    return sigmoid(np.dot(X, weights))>0.5"
   ]
  },
  {
   "cell_type": "markdown",
   "metadata": {},
   "source": [
    "Training a Linear regression and printing the accuracy score"
   ]
  },
  {
   "cell_type": "code",
   "execution_count": 10,
   "metadata": {},
   "outputs": [
    {
     "name": "stderr",
     "output_type": "stream",
     "text": [
      "/anaconda/lib/python3.6/site-packages/ipykernel_launcher.py:2: RuntimeWarning: overflow encountered in exp\n",
      "  \n"
     ]
    },
    {
     "name": "stdout",
     "output_type": "stream",
     "text": [
      "Testing accuracy :  0.9476987447698745\n"
     ]
    }
   ],
   "source": [
    "num_of_iter = 1000\n",
    "learning_rate = 0.25\n",
    "lam = 0.1\n",
    "weights = trainLR(X_train, y_train, num_of_iter, learning_rate, lam)\n",
    "\n",
    "y_pred = predict(X_test)\n",
    "print(\"Testing accuracy : \",(accuracy_score(y_test, y_pred)))"
   ]
  },
  {
   "cell_type": "code",
   "execution_count": null,
   "metadata": {},
   "outputs": [],
   "source": []
  }
 ],
 "metadata": {
  "kernelspec": {
   "display_name": "Python 3",
   "language": "python",
   "name": "python3"
  },
  "language_info": {
   "codemirror_mode": {
    "name": "ipython",
    "version": 3
   },
   "file_extension": ".py",
   "mimetype": "text/x-python",
   "name": "python",
   "nbconvert_exporter": "python",
   "pygments_lexer": "ipython3",
   "version": "3.6.1"
  }
 },
 "nbformat": 4,
 "nbformat_minor": 2
}
